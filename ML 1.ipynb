{
 "cells": [
  {
   "cell_type": "markdown",
   "id": "f83a5d9b-5689-44c7-af49-6f685e0bff62",
   "metadata": {
    "tags": []
   },
   "source": [
    "# MY FIRST ML PROJECT\n",
    "## CLASSIFICATION OF BASEBALL PLAYER POSITIONS\n",
    "\n",
    "All the best in this journey"
   ]
  },
  {
   "cell_type": "code",
   "execution_count": 33,
   "id": "53fce7ee",
   "metadata": {},
   "outputs": [],
   "source": [
    "import pandas as pd\n",
    "import numpy as np\n",
    "import seaborn as sns\n",
    "import matplotlib.pyplot as plt\n",
    "\n",
    "from category_encoders import OneHotEncoder, OrdinalEncoder\n",
    "\n",
    "from sklearn.model_selection import train_test_split\n",
    "from sklearn.linear_model import LogisticRegression\n",
    "from sklearn.neighbors import KNeighborsClassifier\n",
    "from sklearn.metrics import accuracy_score, confusion_matrix, ConfusionMatrixDisplay\n",
    "from sklearn.pipeline import make_pipeline"
   ]
  },
  {
   "cell_type": "markdown",
   "id": "80782369",
   "metadata": {},
   "source": [
    "Import dataset and convert to a dataframe"
   ]
  },
  {
   "cell_type": "code",
   "execution_count": 2,
   "id": "49209b9b",
   "metadata": {},
   "outputs": [
    {
     "data": {
      "text/html": [
       "<div>\n",
       "<style scoped>\n",
       "    .dataframe tbody tr th:only-of-type {\n",
       "        vertical-align: middle;\n",
       "    }\n",
       "\n",
       "    .dataframe tbody tr th {\n",
       "        vertical-align: top;\n",
       "    }\n",
       "\n",
       "    .dataframe thead th {\n",
       "        text-align: right;\n",
       "    }\n",
       "</style>\n",
       "<table border=\"1\" class=\"dataframe\">\n",
       "  <thead>\n",
       "    <tr style=\"text-align: right;\">\n",
       "      <th></th>\n",
       "      <th>Name</th>\n",
       "      <th>Team</th>\n",
       "      <th>Position</th>\n",
       "      <th>Height</th>\n",
       "      <th>Weight</th>\n",
       "      <th>Age</th>\n",
       "      <th>PosCategory</th>\n",
       "    </tr>\n",
       "  </thead>\n",
       "  <tbody>\n",
       "    <tr>\n",
       "      <th>0</th>\n",
       "      <td>Adam_Donachie</td>\n",
       "      <td>BAL</td>\n",
       "      <td>Catcher</td>\n",
       "      <td>74</td>\n",
       "      <td>180</td>\n",
       "      <td>22.99</td>\n",
       "      <td>Catcher</td>\n",
       "    </tr>\n",
       "    <tr>\n",
       "      <th>1</th>\n",
       "      <td>Paul_Bako</td>\n",
       "      <td>BAL</td>\n",
       "      <td>Catcher</td>\n",
       "      <td>74</td>\n",
       "      <td>215</td>\n",
       "      <td>34.69</td>\n",
       "      <td>Catcher</td>\n",
       "    </tr>\n",
       "    <tr>\n",
       "      <th>2</th>\n",
       "      <td>Ramon_Hernandez</td>\n",
       "      <td>BAL</td>\n",
       "      <td>Catcher</td>\n",
       "      <td>72</td>\n",
       "      <td>210</td>\n",
       "      <td>30.78</td>\n",
       "      <td>Catcher</td>\n",
       "    </tr>\n",
       "    <tr>\n",
       "      <th>3</th>\n",
       "      <td>Kevin_Millar</td>\n",
       "      <td>BAL</td>\n",
       "      <td>First_Baseman</td>\n",
       "      <td>72</td>\n",
       "      <td>210</td>\n",
       "      <td>35.43</td>\n",
       "      <td>Infielder</td>\n",
       "    </tr>\n",
       "    <tr>\n",
       "      <th>4</th>\n",
       "      <td>Chris_Gomez</td>\n",
       "      <td>BAL</td>\n",
       "      <td>First_Baseman</td>\n",
       "      <td>73</td>\n",
       "      <td>188</td>\n",
       "      <td>35.71</td>\n",
       "      <td>Infielder</td>\n",
       "    </tr>\n",
       "  </tbody>\n",
       "</table>\n",
       "</div>"
      ],
      "text/plain": [
       "              Name Team       Position  Height  Weight    Age PosCategory\n",
       "0    Adam_Donachie  BAL        Catcher      74     180  22.99     Catcher\n",
       "1        Paul_Bako  BAL        Catcher      74     215  34.69     Catcher\n",
       "2  Ramon_Hernandez  BAL        Catcher      72     210  30.78     Catcher\n",
       "3     Kevin_Millar  BAL  First_Baseman      72     210  35.43   Infielder\n",
       "4      Chris_Gomez  BAL  First_Baseman      73     188  35.71   Infielder"
      ]
     },
     "execution_count": 2,
     "metadata": {},
     "output_type": "execute_result"
    }
   ],
   "source": [
    "df = pd.read_csv(\"baseball.csv\")\n",
    "df.head()"
   ]
  },
  {
   "cell_type": "code",
   "execution_count": 3,
   "id": "e0cb4aa0",
   "metadata": {},
   "outputs": [
    {
     "name": "stdout",
     "output_type": "stream",
     "text": [
      "<class 'pandas.core.frame.DataFrame'>\n",
      "RangeIndex: 1015 entries, 0 to 1014\n",
      "Data columns (total 7 columns):\n",
      " #   Column       Non-Null Count  Dtype  \n",
      "---  ------       --------------  -----  \n",
      " 0   Name         1015 non-null   object \n",
      " 1   Team         1015 non-null   object \n",
      " 2   Position     1015 non-null   object \n",
      " 3   Height       1015 non-null   int64  \n",
      " 4   Weight       1015 non-null   int64  \n",
      " 5   Age          1015 non-null   float64\n",
      " 6   PosCategory  1015 non-null   object \n",
      "dtypes: float64(1), int64(2), object(4)\n",
      "memory usage: 55.6+ KB\n"
     ]
    }
   ],
   "source": [
    "df.info()"
   ]
  },
  {
   "cell_type": "code",
   "execution_count": 4,
   "id": "8825cfd3",
   "metadata": {},
   "outputs": [
    {
     "data": {
      "text/plain": [
       "(1015, 7)"
      ]
     },
     "execution_count": 4,
     "metadata": {},
     "output_type": "execute_result"
    }
   ],
   "source": [
    "df.shape"
   ]
  },
  {
   "cell_type": "code",
   "execution_count": 5,
   "id": "f28c57e5",
   "metadata": {},
   "outputs": [
    {
     "data": {
      "text/html": [
       "<div>\n",
       "<style scoped>\n",
       "    .dataframe tbody tr th:only-of-type {\n",
       "        vertical-align: middle;\n",
       "    }\n",
       "\n",
       "    .dataframe tbody tr th {\n",
       "        vertical-align: top;\n",
       "    }\n",
       "\n",
       "    .dataframe thead th {\n",
       "        text-align: right;\n",
       "    }\n",
       "</style>\n",
       "<table border=\"1\" class=\"dataframe\">\n",
       "  <thead>\n",
       "    <tr style=\"text-align: right;\">\n",
       "      <th></th>\n",
       "      <th>Name</th>\n",
       "      <th>Team</th>\n",
       "      <th>Position</th>\n",
       "      <th>Height</th>\n",
       "      <th>Weight</th>\n",
       "      <th>Age</th>\n",
       "      <th>PosCategory</th>\n",
       "    </tr>\n",
       "  </thead>\n",
       "  <tbody>\n",
       "    <tr>\n",
       "      <th>count</th>\n",
       "      <td>1015</td>\n",
       "      <td>1015</td>\n",
       "      <td>1015</td>\n",
       "      <td>1015.000000</td>\n",
       "      <td>1015.000000</td>\n",
       "      <td>1015.000000</td>\n",
       "      <td>1015</td>\n",
       "    </tr>\n",
       "    <tr>\n",
       "      <th>unique</th>\n",
       "      <td>1013</td>\n",
       "      <td>30</td>\n",
       "      <td>8</td>\n",
       "      <td>NaN</td>\n",
       "      <td>NaN</td>\n",
       "      <td>NaN</td>\n",
       "      <td>4</td>\n",
       "    </tr>\n",
       "    <tr>\n",
       "      <th>top</th>\n",
       "      <td>Tony_Pe?a</td>\n",
       "      <td>NYM</td>\n",
       "      <td>Relief_Pitcher</td>\n",
       "      <td>NaN</td>\n",
       "      <td>NaN</td>\n",
       "      <td>NaN</td>\n",
       "      <td>Pitcher</td>\n",
       "    </tr>\n",
       "    <tr>\n",
       "      <th>freq</th>\n",
       "      <td>2</td>\n",
       "      <td>38</td>\n",
       "      <td>315</td>\n",
       "      <td>NaN</td>\n",
       "      <td>NaN</td>\n",
       "      <td>NaN</td>\n",
       "      <td>535</td>\n",
       "    </tr>\n",
       "    <tr>\n",
       "      <th>mean</th>\n",
       "      <td>NaN</td>\n",
       "      <td>NaN</td>\n",
       "      <td>NaN</td>\n",
       "      <td>73.689655</td>\n",
       "      <td>201.348768</td>\n",
       "      <td>28.708355</td>\n",
       "      <td>NaN</td>\n",
       "    </tr>\n",
       "    <tr>\n",
       "      <th>std</th>\n",
       "      <td>NaN</td>\n",
       "      <td>NaN</td>\n",
       "      <td>NaN</td>\n",
       "      <td>2.313932</td>\n",
       "      <td>20.823115</td>\n",
       "      <td>4.314453</td>\n",
       "      <td>NaN</td>\n",
       "    </tr>\n",
       "    <tr>\n",
       "      <th>min</th>\n",
       "      <td>NaN</td>\n",
       "      <td>NaN</td>\n",
       "      <td>NaN</td>\n",
       "      <td>67.000000</td>\n",
       "      <td>150.000000</td>\n",
       "      <td>20.900000</td>\n",
       "      <td>NaN</td>\n",
       "    </tr>\n",
       "    <tr>\n",
       "      <th>25%</th>\n",
       "      <td>NaN</td>\n",
       "      <td>NaN</td>\n",
       "      <td>NaN</td>\n",
       "      <td>72.000000</td>\n",
       "      <td>186.000000</td>\n",
       "      <td>25.405000</td>\n",
       "      <td>NaN</td>\n",
       "    </tr>\n",
       "    <tr>\n",
       "      <th>50%</th>\n",
       "      <td>NaN</td>\n",
       "      <td>NaN</td>\n",
       "      <td>NaN</td>\n",
       "      <td>74.000000</td>\n",
       "      <td>200.000000</td>\n",
       "      <td>27.900000</td>\n",
       "      <td>NaN</td>\n",
       "    </tr>\n",
       "    <tr>\n",
       "      <th>75%</th>\n",
       "      <td>NaN</td>\n",
       "      <td>NaN</td>\n",
       "      <td>NaN</td>\n",
       "      <td>75.000000</td>\n",
       "      <td>215.000000</td>\n",
       "      <td>31.190000</td>\n",
       "      <td>NaN</td>\n",
       "    </tr>\n",
       "    <tr>\n",
       "      <th>max</th>\n",
       "      <td>NaN</td>\n",
       "      <td>NaN</td>\n",
       "      <td>NaN</td>\n",
       "      <td>83.000000</td>\n",
       "      <td>290.000000</td>\n",
       "      <td>48.520000</td>\n",
       "      <td>NaN</td>\n",
       "    </tr>\n",
       "  </tbody>\n",
       "</table>\n",
       "</div>"
      ],
      "text/plain": [
       "             Name  Team        Position       Height       Weight  \\\n",
       "count        1015  1015            1015  1015.000000  1015.000000   \n",
       "unique       1013    30               8          NaN          NaN   \n",
       "top     Tony_Pe?a   NYM  Relief_Pitcher          NaN          NaN   \n",
       "freq            2    38             315          NaN          NaN   \n",
       "mean          NaN   NaN             NaN    73.689655   201.348768   \n",
       "std           NaN   NaN             NaN     2.313932    20.823115   \n",
       "min           NaN   NaN             NaN    67.000000   150.000000   \n",
       "25%           NaN   NaN             NaN    72.000000   186.000000   \n",
       "50%           NaN   NaN             NaN    74.000000   200.000000   \n",
       "75%           NaN   NaN             NaN    75.000000   215.000000   \n",
       "max           NaN   NaN             NaN    83.000000   290.000000   \n",
       "\n",
       "                Age PosCategory  \n",
       "count   1015.000000        1015  \n",
       "unique          NaN           4  \n",
       "top             NaN     Pitcher  \n",
       "freq            NaN         535  \n",
       "mean      28.708355         NaN  \n",
       "std        4.314453         NaN  \n",
       "min       20.900000         NaN  \n",
       "25%       25.405000         NaN  \n",
       "50%       27.900000         NaN  \n",
       "75%       31.190000         NaN  \n",
       "max       48.520000         NaN  "
      ]
     },
     "execution_count": 5,
     "metadata": {},
     "output_type": "execute_result"
    }
   ],
   "source": [
    "df.describe(include=\"all\")"
   ]
  },
  {
   "cell_type": "code",
   "execution_count": 6,
   "id": "c26e51c1",
   "metadata": {},
   "outputs": [
    {
     "name": "stderr",
     "output_type": "stream",
     "text": [
      "c:\\users\\ajibola\\appdata\\local\\programs\\python\\python38\\lib\\site-packages\\seaborn\\_decorators.py:36: FutureWarning: Pass the following variable as a keyword arg: x. From version 0.12, the only valid positional argument will be `data`, and passing other arguments without an explicit keyword will result in an error or misinterpretation.\n",
      "  warnings.warn(\n"
     ]
    },
    {
     "data": {
      "image/png": "[encoded data removed]",
      "text/plain": [
       "<Figure size 432x288 with 1 Axes>"
      ]
     },
     "metadata": {
      "needs_background": "light"
     },
     "output_type": "display_data"
    }
   ],
   "source": [
    "#sns.boxplot(df.Height);\n",
    "sns.boxplot(df.Weight);\n",
    "#sns.boxplot(df.Age);"
   ]
  },
  {
   "cell_type": "code",
   "execution_count": 7,
   "id": "b4d6f209",
   "metadata": {},
   "outputs": [],
   "source": [
    "players_greater_than_36 = df[df[\"Age\"] > 36]"
   ]
  },
  {
   "cell_type": "code",
   "execution_count": 8,
   "id": "76143477",
   "metadata": {},
   "outputs": [
    {
     "data": {
      "text/html": [
       "<div>\n",
       "<style scoped>\n",
       "    .dataframe tbody tr th:only-of-type {\n",
       "        vertical-align: middle;\n",
       "    }\n",
       "\n",
       "    .dataframe tbody tr th {\n",
       "        vertical-align: top;\n",
       "    }\n",
       "\n",
       "    .dataframe thead th {\n",
       "        text-align: right;\n",
       "    }\n",
       "</style>\n",
       "<table border=\"1\" class=\"dataframe\">\n",
       "  <thead>\n",
       "    <tr style=\"text-align: right;\">\n",
       "      <th></th>\n",
       "      <th>Height</th>\n",
       "      <th>Weight</th>\n",
       "      <th>Age</th>\n",
       "    </tr>\n",
       "  </thead>\n",
       "  <tbody>\n",
       "    <tr>\n",
       "      <th>count</th>\n",
       "      <td>70.000000</td>\n",
       "      <td>70.000000</td>\n",
       "      <td>70.000000</td>\n",
       "    </tr>\n",
       "    <tr>\n",
       "      <th>mean</th>\n",
       "      <td>73.214286</td>\n",
       "      <td>205.400000</td>\n",
       "      <td>38.678429</td>\n",
       "    </tr>\n",
       "    <tr>\n",
       "      <th>std</th>\n",
       "      <td>2.212565</td>\n",
       "      <td>18.361428</td>\n",
       "      <td>2.278217</td>\n",
       "    </tr>\n",
       "    <tr>\n",
       "      <th>min</th>\n",
       "      <td>69.000000</td>\n",
       "      <td>163.000000</td>\n",
       "      <td>36.030000</td>\n",
       "    </tr>\n",
       "    <tr>\n",
       "      <th>25%</th>\n",
       "      <td>72.000000</td>\n",
       "      <td>190.000000</td>\n",
       "      <td>37.115000</td>\n",
       "    </tr>\n",
       "    <tr>\n",
       "      <th>50%</th>\n",
       "      <td>73.000000</td>\n",
       "      <td>205.000000</td>\n",
       "      <td>38.085000</td>\n",
       "    </tr>\n",
       "    <tr>\n",
       "      <th>75%</th>\n",
       "      <td>74.750000</td>\n",
       "      <td>220.000000</td>\n",
       "      <td>39.835000</td>\n",
       "    </tr>\n",
       "    <tr>\n",
       "      <th>max</th>\n",
       "      <td>82.000000</td>\n",
       "      <td>250.000000</td>\n",
       "      <td>48.520000</td>\n",
       "    </tr>\n",
       "  </tbody>\n",
       "</table>\n",
       "</div>"
      ],
      "text/plain": [
       "          Height      Weight        Age\n",
       "count  70.000000   70.000000  70.000000\n",
       "mean   73.214286  205.400000  38.678429\n",
       "std     2.212565   18.361428   2.278217\n",
       "min    69.000000  163.000000  36.030000\n",
       "25%    72.000000  190.000000  37.115000\n",
       "50%    73.000000  205.000000  38.085000\n",
       "75%    74.750000  220.000000  39.835000\n",
       "max    82.000000  250.000000  48.520000"
      ]
     },
     "execution_count": 8,
     "metadata": {},
     "output_type": "execute_result"
    }
   ],
   "source": [
    "players_greater_than_36.describe()"
   ]
  },
  {
   "cell_type": "code",
   "execution_count": 9,
   "id": "1c47804b",
   "metadata": {},
   "outputs": [
    {
     "name": "stderr",
     "output_type": "stream",
     "text": [
      "c:\\users\\ajibola\\appdata\\local\\programs\\python\\python38\\lib\\site-packages\\seaborn\\_decorators.py:36: FutureWarning: Pass the following variable as a keyword arg: x. From version 0.12, the only valid positional argument will be `data`, and passing other arguments without an explicit keyword will result in an error or misinterpretation.\n",
      "  warnings.warn(\n"
     ]
    },
    {
     "data": {
      "image/png": "[encoded data removed]",
      "text/plain": [
       "<Figure size 432x288 with 1 Axes>"
      ]
     },
     "metadata": {
      "needs_background": "light"
     },
     "output_type": "display_data"
    }
   ],
   "source": [
    "sns.boxplot(players_greater_than_36.Age);"
   ]
  },
  {
   "cell_type": "markdown",
   "id": "5a6d786c",
   "metadata": {},
   "source": [
    "# Data Preparation"
   ]
  },
  {
   "cell_type": "code",
   "execution_count": 10,
   "id": "88db4d0c",
   "metadata": {},
   "outputs": [],
   "source": [
    "def wrangle (path):\n",
    "    df = pd.read_csv(path)\n",
    "    \n",
    "    # drop columns with multidimensionality\n",
    "    drop_cols = [\"Name\", \"Team\"]\n",
    "    \n",
    "    df.drop(columns=drop_cols, inplace=True)\n",
    "    \n",
    "    return df"
   ]
  },
  {
   "cell_type": "code",
   "execution_count": 11,
   "id": "76b093f0",
   "metadata": {},
   "outputs": [
    {
     "name": "stdout",
     "output_type": "stream",
     "text": [
      "            Position  Height  Weight    Age PosCategory\n",
      "0            Catcher      74     180  22.99     Catcher\n",
      "1            Catcher      74     215  34.69     Catcher\n",
      "2            Catcher      72     210  30.78     Catcher\n",
      "3      First_Baseman      72     210  35.43   Infielder\n",
      "4      First_Baseman      73     188  35.71   Infielder\n",
      "...              ...     ...     ...    ...         ...\n",
      "1010  Relief_Pitcher      73     190  25.08     Pitcher\n",
      "1011  Relief_Pitcher      74     180  25.73     Pitcher\n",
      "1012  Relief_Pitcher      75     205  25.19     Pitcher\n",
      "1013  Relief_Pitcher      75     190  31.01     Pitcher\n",
      "1014  Relief_Pitcher      73     195  27.92     Pitcher\n",
      "\n",
      "[1015 rows x 5 columns]\n"
     ]
    }
   ],
   "source": [
    "df = wrangle(\"baseball.csv\")\n",
    "print(df)"
   ]
  },
  {
   "cell_type": "code",
   "execution_count": 12,
   "id": "6995d469",
   "metadata": {},
   "outputs": [],
   "source": [
    "corr = df.drop(columns=\"PosCategory\").corr()"
   ]
  },
  {
   "cell_type": "code",
   "execution_count": 13,
   "id": "3a00bd99",
   "metadata": {},
   "outputs": [
    {
     "data": {
      "text/plain": [
       "<AxesSubplot:>"
      ]
     },
     "execution_count": 13,
     "metadata": {},
     "output_type": "execute_result"
    },
    {
     "data": {
      "image/png": "[encoded data removed]",
      "text/plain": [
       "<Figure size 432x288 with 2 Axes>"
      ]
     },
     "metadata": {
      "needs_background": "light"
     },
     "output_type": "display_data"
    }
   ],
   "source": [
    "sns.heatmap(corr)"
   ]
  },
  {
   "cell_type": "markdown",
   "id": "3a431bff",
   "metadata": {},
   "source": [
    "# Build a KNN model"
   ]
  },
  {
   "cell_type": "code",
   "execution_count": 14,
   "id": "685c7454",
   "metadata": {},
   "outputs": [
    {
     "name": "stdout",
     "output_type": "stream",
     "text": [
      "(1015, 4)\n",
      "(1015,)\n"
     ]
    }
   ],
   "source": [
    "target = \"PosCategory\"\n",
    "X = df.drop(columns=target)\n",
    "y = df[target]\n",
    "\n",
    "print(X.shape)\n",
    "print(y.shape)"
   ]
  },
  {
   "cell_type": "markdown",
   "id": "1c76018f",
   "metadata": {},
   "source": [
    "- Split into training and testing set"
   ]
  },
  {
   "cell_type": "code",
   "execution_count": 15,
   "id": "145e1588",
   "metadata": {},
   "outputs": [
    {
     "name": "stdout",
     "output_type": "stream",
     "text": [
      "(609, 4)\n",
      "(609,)\n",
      "(203, 4)\n",
      "(203,)\n",
      "(203, 4)\n",
      "(203,)\n"
     ]
    }
   ],
   "source": [
    "X_train, X_test, y_train, y_test = train_test_split(X, y, test_size=0.2, random_state=42)\n",
    "X_train, X_val, y_train, y_val = train_test_split(X_train, y_train, test_size=0.25, random_state=42)\n",
    "print(X_train.shape)\n",
    "print(y_train.shape)\n",
    "print(X_val.shape)\n",
    "print(y_val.shape)\n",
    "print(X_test.shape)\n",
    "print(y_test.shape)"
   ]
  },
  {
   "cell_type": "markdown",
   "id": "f925e274-4f98-4bcb-9ac4-0cee9d8e6255",
   "metadata": {},
   "source": [
    "## Building Baseline"
   ]
  },
  {
   "cell_type": "code",
   "execution_count": 16,
   "id": "3180f77f-eaa8-4b40-a39b-8c595cc7c543",
   "metadata": {},
   "outputs": [
    {
     "name": "stdout",
     "output_type": "stream",
     "text": [
      "The baseline accuracy =  0.5270935960591133\n"
     ]
    }
   ],
   "source": [
    "acc_baseline = y_train.value_counts(normalize=True).max()\n",
    "print(\"The baseline accuracy = \", acc_baseline)"
   ]
  },
  {
   "cell_type": "markdown",
   "id": "f724f363",
   "metadata": {},
   "source": [
    "# Finding the Optimal K"
   ]
  },
  {
   "cell_type": "code",
   "execution_count": 17,
   "id": "da2cb104",
   "metadata": {},
   "outputs": [
    {
     "name": "stdout",
     "output_type": "stream",
     "text": [
      "The accuracy of the KNN on train set with k =  1 is  1.0 and val set is  0.665025\n",
      "The accuracy of the KNN on train set with k =  3 is  0.80624 and val set is  0.600985\n",
      "The accuracy of the KNN on train set with k =  5 is  0.752053 and val set is  0.600985\n",
      "The accuracy of the KNN on train set with k =  7 is  0.691297 and val set is  0.581281\n",
      "The accuracy of the KNN on train set with k =  9 is  0.671593 and val set is  0.576355\n",
      "The accuracy of the KNN on train set with k =  11 is  0.646962 and val set is  0.581281\n",
      "The accuracy of the KNN on train set with k =  13 is  0.632184 and val set is  0.586207\n",
      "The accuracy of the KNN on train set with k =  15 is  0.640394 and val set is  0.596059\n",
      "The accuracy of the KNN on train set with k =  17 is  0.633826 and val set is  0.615764\n",
      "The accuracy of the KNN on train set with k =  19 is  0.623974 and val set is  0.596059\n",
      "The accuracy of the KNN on train set with k =  21 is  0.614122 and val set is  0.600985\n",
      "The accuracy of the KNN on train set with k =  23 is  0.612479 and val set is  0.586207\n",
      "The accuracy of the KNN on train set with k =  25 is  0.617406 and val set is  0.586207\n",
      "The accuracy of the KNN on train set with k =  27 is  0.610837 and val set is  0.591133\n",
      "The accuracy of the KNN on train set with k =  29 is  0.596059 and val set is  0.596059\n",
      "The accuracy of the KNN on train set with k =  31 is  0.592775 and val set is  0.605911\n",
      "The accuracy of the KNN on train set with k =  33 is  0.587849 and val set is  0.586207\n",
      "The accuracy of the KNN on train set with k =  35 is  0.589491 and val set is  0.596059\n",
      "The accuracy of the KNN on train set with k =  37 is  0.573071 and val set is  0.586207\n",
      "The accuracy of the KNN on train set with k =  39 is  0.576355 and val set is  0.581281\n",
      "The accuracy of the KNN on train set with k =  41 is  0.569787 and val set is  0.571429\n",
      "The accuracy of the KNN on train set with k =  43 is  0.569787 and val set is  0.571429\n",
      "The accuracy of the KNN on train set with k =  45 is  0.561576 and val set is  0.571429\n",
      "The accuracy of the KNN on train set with k =  47 is  0.558292 and val set is  0.571429\n",
      "The accuracy of the KNN on train set with k =  49 is  0.566502 and val set is  0.576355\n"
     ]
    }
   ],
   "source": [
    "k_value = range(1, 50, 2)\n",
    "acc_train = []\n",
    "acc_val = []\n",
    "for k in k_value:\n",
    "    knn = make_pipeline(\n",
    "        OrdinalEncoder(),\n",
    "        KNeighborsClassifier(n_neighbors=k)\n",
    "    )\n",
    "    knn.fit(X_train, y_train)\n",
    "    y_train_pred = knn.predict(X_train)\n",
    "    Accuracy_train= accuracy_score(y_train, y_train_pred)\n",
    "    acc_train.append(Accuracy_train.round(6))\n",
    "    \n",
    "    y_val_pred = knn.predict(X_val)\n",
    "    Accuracy_val = accuracy_score(y_val, y_val_pred)\n",
    "    acc_val.append(Accuracy_val.round(6))\n",
    "    print(\"The accuracy of the KNN on train set with k = \", k , \"is \", acc_train[len(acc_train) - 1], \"and val set is \", acc_val[len(acc_val)-1])\n"
   ]
  },
  {
   "cell_type": "code",
   "execution_count": 18,
   "id": "aa7b1860",
   "metadata": {},
   "outputs": [
    {
     "data": {
      "text/html": [
       "<div>\n",
       "<style scoped>\n",
       "    .dataframe tbody tr th:only-of-type {\n",
       "        vertical-align: middle;\n",
       "    }\n",
       "\n",
       "    .dataframe tbody tr th {\n",
       "        vertical-align: top;\n",
       "    }\n",
       "\n",
       "    .dataframe thead th {\n",
       "        text-align: right;\n",
       "    }\n",
       "</style>\n",
       "<table border=\"1\" class=\"dataframe\">\n",
       "  <thead>\n",
       "    <tr style=\"text-align: right;\">\n",
       "      <th></th>\n",
       "      <th>k</th>\n",
       "      <th>acc_train</th>\n",
       "      <th>acc_val</th>\n",
       "    </tr>\n",
       "  </thead>\n",
       "  <tbody>\n",
       "    <tr>\n",
       "      <th>0</th>\n",
       "      <td>1</td>\n",
       "      <td>1.000000</td>\n",
       "      <td>0.665025</td>\n",
       "    </tr>\n",
       "    <tr>\n",
       "      <th>1</th>\n",
       "      <td>3</td>\n",
       "      <td>0.806240</td>\n",
       "      <td>0.600985</td>\n",
       "    </tr>\n",
       "    <tr>\n",
       "      <th>2</th>\n",
       "      <td>5</td>\n",
       "      <td>0.752053</td>\n",
       "      <td>0.600985</td>\n",
       "    </tr>\n",
       "    <tr>\n",
       "      <th>3</th>\n",
       "      <td>7</td>\n",
       "      <td>0.691297</td>\n",
       "      <td>0.581281</td>\n",
       "    </tr>\n",
       "    <tr>\n",
       "      <th>4</th>\n",
       "      <td>9</td>\n",
       "      <td>0.671593</td>\n",
       "      <td>0.576355</td>\n",
       "    </tr>\n",
       "    <tr>\n",
       "      <th>5</th>\n",
       "      <td>11</td>\n",
       "      <td>0.646962</td>\n",
       "      <td>0.581281</td>\n",
       "    </tr>\n",
       "    <tr>\n",
       "      <th>6</th>\n",
       "      <td>13</td>\n",
       "      <td>0.632184</td>\n",
       "      <td>0.586207</td>\n",
       "    </tr>\n",
       "    <tr>\n",
       "      <th>7</th>\n",
       "      <td>15</td>\n",
       "      <td>0.640394</td>\n",
       "      <td>0.596059</td>\n",
       "    </tr>\n",
       "    <tr>\n",
       "      <th>8</th>\n",
       "      <td>17</td>\n",
       "      <td>0.633826</td>\n",
       "      <td>0.615764</td>\n",
       "    </tr>\n",
       "    <tr>\n",
       "      <th>9</th>\n",
       "      <td>19</td>\n",
       "      <td>0.623974</td>\n",
       "      <td>0.596059</td>\n",
       "    </tr>\n",
       "    <tr>\n",
       "      <th>10</th>\n",
       "      <td>21</td>\n",
       "      <td>0.614122</td>\n",
       "      <td>0.600985</td>\n",
       "    </tr>\n",
       "    <tr>\n",
       "      <th>11</th>\n",
       "      <td>23</td>\n",
       "      <td>0.612479</td>\n",
       "      <td>0.586207</td>\n",
       "    </tr>\n",
       "    <tr>\n",
       "      <th>12</th>\n",
       "      <td>25</td>\n",
       "      <td>0.617406</td>\n",
       "      <td>0.586207</td>\n",
       "    </tr>\n",
       "    <tr>\n",
       "      <th>13</th>\n",
       "      <td>27</td>\n",
       "      <td>0.610837</td>\n",
       "      <td>0.591133</td>\n",
       "    </tr>\n",
       "    <tr>\n",
       "      <th>14</th>\n",
       "      <td>29</td>\n",
       "      <td>0.596059</td>\n",
       "      <td>0.596059</td>\n",
       "    </tr>\n",
       "    <tr>\n",
       "      <th>15</th>\n",
       "      <td>31</td>\n",
       "      <td>0.592775</td>\n",
       "      <td>0.605911</td>\n",
       "    </tr>\n",
       "    <tr>\n",
       "      <th>16</th>\n",
       "      <td>33</td>\n",
       "      <td>0.587849</td>\n",
       "      <td>0.586207</td>\n",
       "    </tr>\n",
       "    <tr>\n",
       "      <th>17</th>\n",
       "      <td>35</td>\n",
       "      <td>0.589491</td>\n",
       "      <td>0.596059</td>\n",
       "    </tr>\n",
       "    <tr>\n",
       "      <th>18</th>\n",
       "      <td>37</td>\n",
       "      <td>0.573071</td>\n",
       "      <td>0.586207</td>\n",
       "    </tr>\n",
       "    <tr>\n",
       "      <th>19</th>\n",
       "      <td>39</td>\n",
       "      <td>0.576355</td>\n",
       "      <td>0.581281</td>\n",
       "    </tr>\n",
       "    <tr>\n",
       "      <th>20</th>\n",
       "      <td>41</td>\n",
       "      <td>0.569787</td>\n",
       "      <td>0.571429</td>\n",
       "    </tr>\n",
       "    <tr>\n",
       "      <th>21</th>\n",
       "      <td>43</td>\n",
       "      <td>0.569787</td>\n",
       "      <td>0.571429</td>\n",
       "    </tr>\n",
       "    <tr>\n",
       "      <th>22</th>\n",
       "      <td>45</td>\n",
       "      <td>0.561576</td>\n",
       "      <td>0.571429</td>\n",
       "    </tr>\n",
       "    <tr>\n",
       "      <th>23</th>\n",
       "      <td>47</td>\n",
       "      <td>0.558292</td>\n",
       "      <td>0.571429</td>\n",
       "    </tr>\n",
       "    <tr>\n",
       "      <th>24</th>\n",
       "      <td>49</td>\n",
       "      <td>0.566502</td>\n",
       "      <td>0.576355</td>\n",
       "    </tr>\n",
       "  </tbody>\n",
       "</table>\n",
       "</div>"
      ],
      "text/plain": [
       "     k  acc_train   acc_val\n",
       "0    1   1.000000  0.665025\n",
       "1    3   0.806240  0.600985\n",
       "2    5   0.752053  0.600985\n",
       "3    7   0.691297  0.581281\n",
       "4    9   0.671593  0.576355\n",
       "5   11   0.646962  0.581281\n",
       "6   13   0.632184  0.586207\n",
       "7   15   0.640394  0.596059\n",
       "8   17   0.633826  0.615764\n",
       "9   19   0.623974  0.596059\n",
       "10  21   0.614122  0.600985\n",
       "11  23   0.612479  0.586207\n",
       "12  25   0.617406  0.586207\n",
       "13  27   0.610837  0.591133\n",
       "14  29   0.596059  0.596059\n",
       "15  31   0.592775  0.605911\n",
       "16  33   0.587849  0.586207\n",
       "17  35   0.589491  0.596059\n",
       "18  37   0.573071  0.586207\n",
       "19  39   0.576355  0.581281\n",
       "20  41   0.569787  0.571429\n",
       "21  43   0.569787  0.571429\n",
       "22  45   0.561576  0.571429\n",
       "23  47   0.558292  0.571429\n",
       "24  49   0.566502  0.576355"
      ]
     },
     "execution_count": 18,
     "metadata": {},
     "output_type": "execute_result"
    }
   ],
   "source": [
    "result = pd.DataFrame({\"k\": k_value, \"acc_train\": acc_train, \"acc_val\": acc_val})\n",
    "result"
   ]
  },
  {
   "cell_type": "code",
   "execution_count": 19,
   "id": "68f113ff",
   "metadata": {},
   "outputs": [
    {
     "data": {
      "image/png": "[encoded data removed]",
      "text/plain": [
       "<Figure size 432x288 with 1 Axes>"
      ]
     },
     "metadata": {
      "needs_background": "light"
     },
     "output_type": "display_data"
    }
   ],
   "source": [
    "plt.plot(result.k, result.acc_train, color = \"red\", label=\"Accuracy Score for Train Set\")\n",
    "plt.plot(result.k, result.acc_val, color = \"blue\", label=\"Accuracy Score for Validation Set\")\n",
    "plt.title(\"Accuracy Score for K\")\n",
    "plt.xlabel(\"K Neighbours Values\")\n",
    "plt.ylabel(\"Accuracy score\")\n",
    "plt.legend();"
   ]
  },
  {
   "cell_type": "code",
   "execution_count": 20,
   "id": "d479111d",
   "metadata": {},
   "outputs": [
    {
     "data": {
      "text/plain": [
       "Pipeline(steps=[('ordinalencoder',\n",
       "                 OrdinalEncoder(cols=['Position'],\n",
       "                                mapping=[{'col': 'Position',\n",
       "                                          'data_type': dtype('O'),\n",
       "                                          'mapping': Relief_Pitcher      1\n",
       "Second_Baseman      2\n",
       "Catcher             3\n",
       "Outfielder          4\n",
       "Starting_Pitcher    5\n",
       "Shortstop           6\n",
       "First_Baseman       7\n",
       "Third_Baseman       8\n",
       "NaN                -2\n",
       "dtype: int64}])),\n",
       "                ('kneighborsclassifier', KNeighborsClassifier(n_neighbors=3))])"
      ]
     },
     "execution_count": 20,
     "metadata": {},
     "output_type": "execute_result"
    }
   ],
   "source": [
    "knn_3 = make_pipeline(\n",
    "    OrdinalEncoder(),\n",
    "    KNeighborsClassifier(n_neighbors=3)\n",
    ")\n",
    "\n",
    "knn_3.fit(X_train, y_train)"
   ]
  },
  {
   "cell_type": "code",
   "execution_count": 21,
   "id": "cb4502c9",
   "metadata": {},
   "outputs": [],
   "source": [
    "y_train_pred = knn_3.predict(X_train)"
   ]
  },
  {
   "cell_type": "code",
   "execution_count": 22,
   "id": "2d53544d",
   "metadata": {},
   "outputs": [
    {
     "data": {
      "text/html": [
       "<div>\n",
       "<style scoped>\n",
       "    .dataframe tbody tr th:only-of-type {\n",
       "        vertical-align: middle;\n",
       "    }\n",
       "\n",
       "    .dataframe tbody tr th {\n",
       "        vertical-align: top;\n",
       "    }\n",
       "\n",
       "    .dataframe thead th {\n",
       "        text-align: right;\n",
       "    }\n",
       "</style>\n",
       "<table border=\"1\" class=\"dataframe\">\n",
       "  <thead>\n",
       "    <tr style=\"text-align: right;\">\n",
       "      <th></th>\n",
       "      <th>y_train</th>\n",
       "      <th>y_train_pred</th>\n",
       "    </tr>\n",
       "  </thead>\n",
       "  <tbody>\n",
       "    <tr>\n",
       "      <th>0</th>\n",
       "      <td>Pitcher</td>\n",
       "      <td>Pitcher</td>\n",
       "    </tr>\n",
       "    <tr>\n",
       "      <th>1</th>\n",
       "      <td>Pitcher</td>\n",
       "      <td>Pitcher</td>\n",
       "    </tr>\n",
       "    <tr>\n",
       "      <th>2</th>\n",
       "      <td>Infielder</td>\n",
       "      <td>Infielder</td>\n",
       "    </tr>\n",
       "    <tr>\n",
       "      <th>3</th>\n",
       "      <td>Catcher</td>\n",
       "      <td>Catcher</td>\n",
       "    </tr>\n",
       "    <tr>\n",
       "      <th>4</th>\n",
       "      <td>Outfielder</td>\n",
       "      <td>Outfielder</td>\n",
       "    </tr>\n",
       "    <tr>\n",
       "      <th>...</th>\n",
       "      <td>...</td>\n",
       "      <td>...</td>\n",
       "    </tr>\n",
       "    <tr>\n",
       "      <th>604</th>\n",
       "      <td>Outfielder</td>\n",
       "      <td>Outfielder</td>\n",
       "    </tr>\n",
       "    <tr>\n",
       "      <th>605</th>\n",
       "      <td>Pitcher</td>\n",
       "      <td>Pitcher</td>\n",
       "    </tr>\n",
       "    <tr>\n",
       "      <th>606</th>\n",
       "      <td>Infielder</td>\n",
       "      <td>Infielder</td>\n",
       "    </tr>\n",
       "    <tr>\n",
       "      <th>607</th>\n",
       "      <td>Infielder</td>\n",
       "      <td>Infielder</td>\n",
       "    </tr>\n",
       "    <tr>\n",
       "      <th>608</th>\n",
       "      <td>Infielder</td>\n",
       "      <td>Infielder</td>\n",
       "    </tr>\n",
       "  </tbody>\n",
       "</table>\n",
       "<p>609 rows × 2 columns</p>\n",
       "</div>"
      ],
      "text/plain": [
       "        y_train y_train_pred\n",
       "0       Pitcher      Pitcher\n",
       "1       Pitcher      Pitcher\n",
       "2     Infielder    Infielder\n",
       "3       Catcher      Catcher\n",
       "4    Outfielder   Outfielder\n",
       "..          ...          ...\n",
       "604  Outfielder   Outfielder\n",
       "605     Pitcher      Pitcher\n",
       "606   Infielder    Infielder\n",
       "607   Infielder    Infielder\n",
       "608   Infielder    Infielder\n",
       "\n",
       "[609 rows x 2 columns]"
      ]
     },
     "execution_count": 22,
     "metadata": {},
     "output_type": "execute_result"
    }
   ],
   "source": [
    "train_df = pd.DataFrame({\"y_train\":y_train, \"y_train_pred\":y_train_pred}).reset_index(drop=True)\n",
    "train_df"
   ]
  },
  {
   "cell_type": "code",
   "execution_count": 23,
   "id": "7ab8a9b5",
   "metadata": {},
   "outputs": [
    {
     "name": "stdout",
     "output_type": "stream",
     "text": [
      "The accuracy of the KNN on train set with k = 5 is  0.8062397\n"
     ]
    }
   ],
   "source": [
    "Accuracy = accuracy_score(y_train, y_train_pred)\n",
    "print(\"The accuracy of the KNN on train set with k = 5 is \", Accuracy.round(7))"
   ]
  },
  {
   "cell_type": "code",
   "execution_count": 24,
   "id": "412607ee",
   "metadata": {},
   "outputs": [
    {
     "name": "stdout",
     "output_type": "stream",
     "text": [
      "The accuracy of the KNN on the validation set with k = 5 is  0.6009852\n"
     ]
    }
   ],
   "source": [
    "y_val_pred = knn_3.predict(X_val)\n",
    "Accuracy = accuracy_score(y_val, y_val_pred)\n",
    "print(\"The accuracy of the KNN on the validation set with k = 5 is \", Accuracy.round(7))"
   ]
  },
  {
   "cell_type": "code",
   "execution_count": 25,
   "id": "375d96ec",
   "metadata": {},
   "outputs": [
    {
     "data": {
      "text/html": [
       "<div>\n",
       "<style scoped>\n",
       "    .dataframe tbody tr th:only-of-type {\n",
       "        vertical-align: middle;\n",
       "    }\n",
       "\n",
       "    .dataframe tbody tr th {\n",
       "        vertical-align: top;\n",
       "    }\n",
       "\n",
       "    .dataframe thead th {\n",
       "        text-align: right;\n",
       "    }\n",
       "</style>\n",
       "<table border=\"1\" class=\"dataframe\">\n",
       "  <thead>\n",
       "    <tr style=\"text-align: right;\">\n",
       "      <th></th>\n",
       "      <th>y_val</th>\n",
       "      <th>y_val_pred</th>\n",
       "    </tr>\n",
       "  </thead>\n",
       "  <tbody>\n",
       "    <tr>\n",
       "      <th>0</th>\n",
       "      <td>Infielder</td>\n",
       "      <td>Infielder</td>\n",
       "    </tr>\n",
       "    <tr>\n",
       "      <th>1</th>\n",
       "      <td>Outfielder</td>\n",
       "      <td>Outfielder</td>\n",
       "    </tr>\n",
       "    <tr>\n",
       "      <th>2</th>\n",
       "      <td>Pitcher</td>\n",
       "      <td>Pitcher</td>\n",
       "    </tr>\n",
       "    <tr>\n",
       "      <th>3</th>\n",
       "      <td>Pitcher</td>\n",
       "      <td>Infielder</td>\n",
       "    </tr>\n",
       "    <tr>\n",
       "      <th>4</th>\n",
       "      <td>Infielder</td>\n",
       "      <td>Infielder</td>\n",
       "    </tr>\n",
       "    <tr>\n",
       "      <th>...</th>\n",
       "      <td>...</td>\n",
       "      <td>...</td>\n",
       "    </tr>\n",
       "    <tr>\n",
       "      <th>198</th>\n",
       "      <td>Pitcher</td>\n",
       "      <td>Pitcher</td>\n",
       "    </tr>\n",
       "    <tr>\n",
       "      <th>199</th>\n",
       "      <td>Pitcher</td>\n",
       "      <td>Pitcher</td>\n",
       "    </tr>\n",
       "    <tr>\n",
       "      <th>200</th>\n",
       "      <td>Pitcher</td>\n",
       "      <td>Catcher</td>\n",
       "    </tr>\n",
       "    <tr>\n",
       "      <th>201</th>\n",
       "      <td>Pitcher</td>\n",
       "      <td>Pitcher</td>\n",
       "    </tr>\n",
       "    <tr>\n",
       "      <th>202</th>\n",
       "      <td>Pitcher</td>\n",
       "      <td>Pitcher</td>\n",
       "    </tr>\n",
       "  </tbody>\n",
       "</table>\n",
       "<p>203 rows × 2 columns</p>\n",
       "</div>"
      ],
      "text/plain": [
       "          y_val  y_val_pred\n",
       "0     Infielder   Infielder\n",
       "1    Outfielder  Outfielder\n",
       "2       Pitcher     Pitcher\n",
       "3       Pitcher   Infielder\n",
       "4     Infielder   Infielder\n",
       "..          ...         ...\n",
       "198     Pitcher     Pitcher\n",
       "199     Pitcher     Pitcher\n",
       "200     Pitcher     Catcher\n",
       "201     Pitcher     Pitcher\n",
       "202     Pitcher     Pitcher\n",
       "\n",
       "[203 rows x 2 columns]"
      ]
     },
     "execution_count": 25,
     "metadata": {},
     "output_type": "execute_result"
    }
   ],
   "source": [
    "val_df = pd.DataFrame({\"y_val\":y_val, \"y_val_pred\":y_val_pred}).reset_index(drop=True)\n",
    "val_df"
   ]
  },
  {
   "cell_type": "code",
   "execution_count": 26,
   "id": "0b7b50fd",
   "metadata": {},
   "outputs": [
    {
     "name": "stdout",
     "output_type": "stream",
     "text": [
      "The accuracy of the KNN on the validation set with k = 5 is  0.635468\n"
     ]
    }
   ],
   "source": [
    "y_test_pred = knn_3.predict(X_test)\n",
    "Accuracy = accuracy_score(y_test, y_test_pred)\n",
    "print(\"The accuracy of the KNN on the validation set with k = 5 is \", Accuracy.round(7))\n"
   ]
  },
  {
   "cell_type": "code",
   "execution_count": 27,
   "id": "07d94363",
   "metadata": {},
   "outputs": [
    {
     "data": {
      "text/html": [
       "<div>\n",
       "<style scoped>\n",
       "    .dataframe tbody tr th:only-of-type {\n",
       "        vertical-align: middle;\n",
       "    }\n",
       "\n",
       "    .dataframe tbody tr th {\n",
       "        vertical-align: top;\n",
       "    }\n",
       "\n",
       "    .dataframe thead th {\n",
       "        text-align: right;\n",
       "    }\n",
       "</style>\n",
       "<table border=\"1\" class=\"dataframe\">\n",
       "  <thead>\n",
       "    <tr style=\"text-align: right;\">\n",
       "      <th></th>\n",
       "      <th>y_test</th>\n",
       "      <th>y_test_pred</th>\n",
       "    </tr>\n",
       "  </thead>\n",
       "  <tbody>\n",
       "    <tr>\n",
       "      <th>0</th>\n",
       "      <td>Infielder</td>\n",
       "      <td>Pitcher</td>\n",
       "    </tr>\n",
       "    <tr>\n",
       "      <th>1</th>\n",
       "      <td>Outfielder</td>\n",
       "      <td>Outfielder</td>\n",
       "    </tr>\n",
       "    <tr>\n",
       "      <th>2</th>\n",
       "      <td>Infielder</td>\n",
       "      <td>Catcher</td>\n",
       "    </tr>\n",
       "    <tr>\n",
       "      <th>3</th>\n",
       "      <td>Infielder</td>\n",
       "      <td>Infielder</td>\n",
       "    </tr>\n",
       "    <tr>\n",
       "      <th>4</th>\n",
       "      <td>Catcher</td>\n",
       "      <td>Catcher</td>\n",
       "    </tr>\n",
       "    <tr>\n",
       "      <th>...</th>\n",
       "      <td>...</td>\n",
       "      <td>...</td>\n",
       "    </tr>\n",
       "    <tr>\n",
       "      <th>198</th>\n",
       "      <td>Pitcher</td>\n",
       "      <td>Catcher</td>\n",
       "    </tr>\n",
       "    <tr>\n",
       "      <th>199</th>\n",
       "      <td>Outfielder</td>\n",
       "      <td>Pitcher</td>\n",
       "    </tr>\n",
       "    <tr>\n",
       "      <th>200</th>\n",
       "      <td>Infielder</td>\n",
       "      <td>Infielder</td>\n",
       "    </tr>\n",
       "    <tr>\n",
       "      <th>201</th>\n",
       "      <td>Pitcher</td>\n",
       "      <td>Pitcher</td>\n",
       "    </tr>\n",
       "    <tr>\n",
       "      <th>202</th>\n",
       "      <td>Outfielder</td>\n",
       "      <td>Outfielder</td>\n",
       "    </tr>\n",
       "  </tbody>\n",
       "</table>\n",
       "<p>203 rows × 2 columns</p>\n",
       "</div>"
      ],
      "text/plain": [
       "         y_test y_test_pred\n",
       "0     Infielder     Pitcher\n",
       "1    Outfielder  Outfielder\n",
       "2     Infielder     Catcher\n",
       "3     Infielder   Infielder\n",
       "4       Catcher     Catcher\n",
       "..          ...         ...\n",
       "198     Pitcher     Catcher\n",
       "199  Outfielder     Pitcher\n",
       "200   Infielder   Infielder\n",
       "201     Pitcher     Pitcher\n",
       "202  Outfielder  Outfielder\n",
       "\n",
       "[203 rows x 2 columns]"
      ]
     },
     "execution_count": 27,
     "metadata": {},
     "output_type": "execute_result"
    }
   ],
   "source": [
    "test_df = pd.DataFrame({\"y_test\":y_test, \"y_test_pred\":y_test_pred}).reset_index(drop=True)\n",
    "test_df"
   ]
  },
  {
   "cell_type": "code",
   "execution_count": 28,
   "id": "5548324a",
   "metadata": {},
   "outputs": [],
   "source": [
    "test_df.to_csv(\"Baseball Prediction.csv\")"
   ]
  },
  {
   "cell_type": "code",
   "execution_count": 29,
   "id": "62c175ce",
   "metadata": {},
   "outputs": [
    {
     "data": {
      "text/plain": [
       "y_test      y_test_pred\n",
       "Pitcher     Pitcher        77\n",
       "Infielder   Infielder      24\n",
       "Outfielder  Outfielder     19\n",
       "Infielder   Pitcher        16\n",
       "Pitcher     Outfielder     14\n",
       "Outfielder  Pitcher        13\n",
       "Catcher     Catcher         9\n",
       "Pitcher     Catcher         7\n",
       "Outfielder  Catcher         5\n",
       "Infielder   Catcher         4\n",
       "Outfielder  Infielder       4\n",
       "Catcher     Outfielder      3\n",
       "            Pitcher         3\n",
       "Pitcher     Infielder       3\n",
       "Infielder   Outfielder      2\n",
       "dtype: int64"
      ]
     },
     "execution_count": 29,
     "metadata": {},
     "output_type": "execute_result"
    }
   ],
   "source": [
    "test_df.value_counts()"
   ]
  },
  {
   "cell_type": "code",
   "execution_count": 30,
   "id": "ac92472e",
   "metadata": {},
   "outputs": [
    {
     "name": "stdout",
     "output_type": "stream",
     "text": [
      "[[ 2  2  4  7]\n",
      " [ 6 24  2  6]\n",
      " [ 5  2 16 14]\n",
      " [ 9 13 11 80]]\n"
     ]
    }
   ],
   "source": [
    "matrix =confusion_matrix(y_val, y_val_pred)\n",
    "print(matrix)"
   ]
  },
  {
   "cell_type": "code",
   "execution_count": 31,
   "id": "fe82b3e5",
   "metadata": {},
   "outputs": [
    {
     "name": "stdout",
     "output_type": "stream",
     "text": [
      "[[ 9  0  3  3]\n",
      " [ 4 24  2 16]\n",
      " [ 5  4 19 13]\n",
      " [ 7  3 14 77]]\n"
     ]
    }
   ],
   "source": [
    "matrix_test =confusion_matrix(y_test, y_test_pred)\n",
    "print(matrix_test)"
   ]
  },
  {
   "cell_type": "code",
   "execution_count": 34,
   "id": "995e6254",
   "metadata": {},
   "outputs": [
    {
     "data": {
      "text/plain": [
       "<sklearn.metrics._plot.confusion_matrix.ConfusionMatrixDisplay at 0x2350ea07ca0>"
      ]
     },
     "execution_count": 34,
     "metadata": {},
     "output_type": "execute_result"
    },
    {
     "data": {
      "image/png": "[encoded data removed]",
      "text/plain": [
       "<Figure size 432x288 with 2 Axes>"
      ]
     },
     "metadata": {
      "needs_background": "light"
     },
     "output_type": "display_data"
    }
   ],
   "source": [
    "ConfusionMatrixDisplay.from_estimator(knn_3, X_test, y_test)"
   ]
  },
  {
   "cell_type": "code",
   "execution_count": null,
   "id": "95cc3b4d",
   "metadata": {},
   "outputs": [],
   "source": []
  }
 ],
 "metadata": {
  "kernelspec": {
   "display_name": "Python 3 (ipykernel)",
   "language": "python",
   "name": "python3"
  },
  "language_info": {
   "codemirror_mode": {
    "name": "ipython",
    "version": 3
   },
   "file_extension": ".py",
   "mimetype": "text/x-python",
   "name": "python",
   "nbconvert_exporter": "python",
   "pygments_lexer": "ipython3",
   "version": "3.8.10"
  }
 },
 "nbformat": 4,
 "nbformat_minor": 5
}
